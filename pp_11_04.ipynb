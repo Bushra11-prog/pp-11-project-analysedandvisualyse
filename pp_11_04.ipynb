{
  "nbformat": 4,
  "nbformat_minor": 0,
  "metadata": {
    "colab": {
      "provenance": []
    },
    "kernelspec": {
      "name": "python3",
      "display_name": "Python 3"
    },
    "language_info": {
      "name": "python"
    }
  },
  "cells": [
    {
      "cell_type": "code",
      "source": [
        "import pandas as pd\n",
        "import matplotlib.pyplot as plt\n",
        "\n",
        "!wget https://raw.githubusercontent.com/Abdullahfoysal/pp11-Project-AnalyzeAndVisualize/refs/heads/main/student_data.csv"
      ],
      "metadata": {
        "colab": {
          "base_uri": "https://localhost:8080/"
        },
        "id": "tFYYXfgmRkW3",
        "outputId": "048f59e7-fcd0-4a36-8458-bd7c9a40e8f9"
      },
      "execution_count": null,
      "outputs": [
        {
          "output_type": "stream",
          "name": "stdout",
          "text": [
            "--2024-12-14 11:33:58--  https://raw.githubusercontent.com/Abdullahfoysal/pp11-Project-AnalyzeAndVisualize/refs/heads/main/student_data.csv\n",
            "Resolving raw.githubusercontent.com (raw.githubusercontent.com)... 185.199.110.133, 185.199.109.133, 185.199.108.133, ...\n",
            "Connecting to raw.githubusercontent.com (raw.githubusercontent.com)|185.199.110.133|:443... connected.\n",
            "HTTP request sent, awaiting response... 200 OK\n",
            "Length: 133023 (130K) [text/plain]\n",
            "Saving to: ‘student_data.csv.5’\n",
            "\n",
            "\rstudent_data.csv.5    0%[                    ]       0  --.-KB/s               \rstudent_data.csv.5  100%[===================>] 129.91K  --.-KB/s    in 0.03s   \n",
            "\n",
            "2024-12-14 11:33:58 (4.83 MB/s) - ‘student_data.csv.5’ saved [133023/133023]\n",
            "\n"
          ]
        }
      ]
    },
    {
      "cell_type": "code",
      "source": [
        "df = pd.read_csv(\"student_data.csv\")\n",
        "df.head()\n",
        "df.sample(5)"
      ],
      "metadata": {
        "colab": {
          "base_uri": "https://localhost:8080/",
          "height": 243
        },
        "id": "IE8OUezFRr4N",
        "outputId": "39eec1a9-2afa-435d-be1b-a9080f7f7080"
      },
      "execution_count": null,
      "outputs": [
        {
          "output_type": "execute_result",
          "data": {
            "text/plain": [
              "      id first_name   last_name                       email    gender  \\\n",
              "732  733     Chicky     Samuels  csamuelskc@paginegialle.it   Agender   \n",
              "173  174     Sloane  Desquesnes   sdesquesnes4t@dedecms.com      Male   \n",
              "352  353      Alfie    Gritsaev      agritsaev9s@dion.ne.jp    Female   \n",
              "903  904       Ruth     Shorten      rshortenp3@pcworld.com    Female   \n",
              "934  935     Edvard      Pickin         epickinpy@desdev.cn  Bigender   \n",
              "\n",
              "          ip_address  cgpa  passing_year        department  attendance  \\\n",
              "732    127.31.176.85  1.05        2012.0       Engineering       77.42   \n",
              "173    0.146.148.140  3.17        2019.0          Business       14.74   \n",
              "352   171.159.118.57  1.64        2011.0              Arts       20.78   \n",
              "903     244.14.86.57  1.81        2001.0  Computer Science        5.93   \n",
              "934  101.143.201.174   NaN        2008.0       Engineering       65.23   \n",
              "\n",
              "    home_district  abroad_study  student_id  graduation_date  \\\n",
              "732       Chicago         False         733             2003   \n",
              "173       Houston          True         174             2018   \n",
              "352       Houston          True         353             2014   \n",
              "903   Los Angeles          True         904             2020   \n",
              "934      New York          True         935             2019   \n",
              "\n",
              "    study_abroad_country study_abroad_city  hsc_gpa  ssc_gpa  \n",
              "732            Indonesia         Mojokerto        4        4  \n",
              "173               Poland            Olesno        3        4  \n",
              "352            Indonesia          Likupang        5        1  \n",
              "903                China          Jinchang        3        2  \n",
              "934          Philippines              Tiwi        1        2  "
            ],
            "text/html": [
              "\n",
              "  <div id=\"df-667f0ceb-4465-49e5-a856-de927483e842\" class=\"colab-df-container\">\n",
              "    <div>\n",
              "<style scoped>\n",
              "    .dataframe tbody tr th:only-of-type {\n",
              "        vertical-align: middle;\n",
              "    }\n",
              "\n",
              "    .dataframe tbody tr th {\n",
              "        vertical-align: top;\n",
              "    }\n",
              "\n",
              "    .dataframe thead th {\n",
              "        text-align: right;\n",
              "    }\n",
              "</style>\n",
              "<table border=\"1\" class=\"dataframe\">\n",
              "  <thead>\n",
              "    <tr style=\"text-align: right;\">\n",
              "      <th></th>\n",
              "      <th>id</th>\n",
              "      <th>first_name</th>\n",
              "      <th>last_name</th>\n",
              "      <th>email</th>\n",
              "      <th>gender</th>\n",
              "      <th>ip_address</th>\n",
              "      <th>cgpa</th>\n",
              "      <th>passing_year</th>\n",
              "      <th>department</th>\n",
              "      <th>attendance</th>\n",
              "      <th>home_district</th>\n",
              "      <th>abroad_study</th>\n",
              "      <th>student_id</th>\n",
              "      <th>graduation_date</th>\n",
              "      <th>study_abroad_country</th>\n",
              "      <th>study_abroad_city</th>\n",
              "      <th>hsc_gpa</th>\n",
              "      <th>ssc_gpa</th>\n",
              "    </tr>\n",
              "  </thead>\n",
              "  <tbody>\n",
              "    <tr>\n",
              "      <th>732</th>\n",
              "      <td>733</td>\n",
              "      <td>Chicky</td>\n",
              "      <td>Samuels</td>\n",
              "      <td>csamuelskc@paginegialle.it</td>\n",
              "      <td>Agender</td>\n",
              "      <td>127.31.176.85</td>\n",
              "      <td>1.05</td>\n",
              "      <td>2012.0</td>\n",
              "      <td>Engineering</td>\n",
              "      <td>77.42</td>\n",
              "      <td>Chicago</td>\n",
              "      <td>False</td>\n",
              "      <td>733</td>\n",
              "      <td>2003</td>\n",
              "      <td>Indonesia</td>\n",
              "      <td>Mojokerto</td>\n",
              "      <td>4</td>\n",
              "      <td>4</td>\n",
              "    </tr>\n",
              "    <tr>\n",
              "      <th>173</th>\n",
              "      <td>174</td>\n",
              "      <td>Sloane</td>\n",
              "      <td>Desquesnes</td>\n",
              "      <td>sdesquesnes4t@dedecms.com</td>\n",
              "      <td>Male</td>\n",
              "      <td>0.146.148.140</td>\n",
              "      <td>3.17</td>\n",
              "      <td>2019.0</td>\n",
              "      <td>Business</td>\n",
              "      <td>14.74</td>\n",
              "      <td>Houston</td>\n",
              "      <td>True</td>\n",
              "      <td>174</td>\n",
              "      <td>2018</td>\n",
              "      <td>Poland</td>\n",
              "      <td>Olesno</td>\n",
              "      <td>3</td>\n",
              "      <td>4</td>\n",
              "    </tr>\n",
              "    <tr>\n",
              "      <th>352</th>\n",
              "      <td>353</td>\n",
              "      <td>Alfie</td>\n",
              "      <td>Gritsaev</td>\n",
              "      <td>agritsaev9s@dion.ne.jp</td>\n",
              "      <td>Female</td>\n",
              "      <td>171.159.118.57</td>\n",
              "      <td>1.64</td>\n",
              "      <td>2011.0</td>\n",
              "      <td>Arts</td>\n",
              "      <td>20.78</td>\n",
              "      <td>Houston</td>\n",
              "      <td>True</td>\n",
              "      <td>353</td>\n",
              "      <td>2014</td>\n",
              "      <td>Indonesia</td>\n",
              "      <td>Likupang</td>\n",
              "      <td>5</td>\n",
              "      <td>1</td>\n",
              "    </tr>\n",
              "    <tr>\n",
              "      <th>903</th>\n",
              "      <td>904</td>\n",
              "      <td>Ruth</td>\n",
              "      <td>Shorten</td>\n",
              "      <td>rshortenp3@pcworld.com</td>\n",
              "      <td>Female</td>\n",
              "      <td>244.14.86.57</td>\n",
              "      <td>1.81</td>\n",
              "      <td>2001.0</td>\n",
              "      <td>Computer Science</td>\n",
              "      <td>5.93</td>\n",
              "      <td>Los Angeles</td>\n",
              "      <td>True</td>\n",
              "      <td>904</td>\n",
              "      <td>2020</td>\n",
              "      <td>China</td>\n",
              "      <td>Jinchang</td>\n",
              "      <td>3</td>\n",
              "      <td>2</td>\n",
              "    </tr>\n",
              "    <tr>\n",
              "      <th>934</th>\n",
              "      <td>935</td>\n",
              "      <td>Edvard</td>\n",
              "      <td>Pickin</td>\n",
              "      <td>epickinpy@desdev.cn</td>\n",
              "      <td>Bigender</td>\n",
              "      <td>101.143.201.174</td>\n",
              "      <td>NaN</td>\n",
              "      <td>2008.0</td>\n",
              "      <td>Engineering</td>\n",
              "      <td>65.23</td>\n",
              "      <td>New York</td>\n",
              "      <td>True</td>\n",
              "      <td>935</td>\n",
              "      <td>2019</td>\n",
              "      <td>Philippines</td>\n",
              "      <td>Tiwi</td>\n",
              "      <td>1</td>\n",
              "      <td>2</td>\n",
              "    </tr>\n",
              "  </tbody>\n",
              "</table>\n",
              "</div>\n",
              "    <div class=\"colab-df-buttons\">\n",
              "\n",
              "  <div class=\"colab-df-container\">\n",
              "    <button class=\"colab-df-convert\" onclick=\"convertToInteractive('df-667f0ceb-4465-49e5-a856-de927483e842')\"\n",
              "            title=\"Convert this dataframe to an interactive table.\"\n",
              "            style=\"display:none;\">\n",
              "\n",
              "  <svg xmlns=\"http://www.w3.org/2000/svg\" height=\"24px\" viewBox=\"0 -960 960 960\">\n",
              "    <path d=\"M120-120v-720h720v720H120Zm60-500h600v-160H180v160Zm220 220h160v-160H400v160Zm0 220h160v-160H400v160ZM180-400h160v-160H180v160Zm440 0h160v-160H620v160ZM180-180h160v-160H180v160Zm440 0h160v-160H620v160Z\"/>\n",
              "  </svg>\n",
              "    </button>\n",
              "\n",
              "  <style>\n",
              "    .colab-df-container {\n",
              "      display:flex;\n",
              "      gap: 12px;\n",
              "    }\n",
              "\n",
              "    .colab-df-convert {\n",
              "      background-color: #E8F0FE;\n",
              "      border: none;\n",
              "      border-radius: 50%;\n",
              "      cursor: pointer;\n",
              "      display: none;\n",
              "      fill: #1967D2;\n",
              "      height: 32px;\n",
              "      padding: 0 0 0 0;\n",
              "      width: 32px;\n",
              "    }\n",
              "\n",
              "    .colab-df-convert:hover {\n",
              "      background-color: #E2EBFA;\n",
              "      box-shadow: 0px 1px 2px rgba(60, 64, 67, 0.3), 0px 1px 3px 1px rgba(60, 64, 67, 0.15);\n",
              "      fill: #174EA6;\n",
              "    }\n",
              "\n",
              "    .colab-df-buttons div {\n",
              "      margin-bottom: 4px;\n",
              "    }\n",
              "\n",
              "    [theme=dark] .colab-df-convert {\n",
              "      background-color: #3B4455;\n",
              "      fill: #D2E3FC;\n",
              "    }\n",
              "\n",
              "    [theme=dark] .colab-df-convert:hover {\n",
              "      background-color: #434B5C;\n",
              "      box-shadow: 0px 1px 3px 1px rgba(0, 0, 0, 0.15);\n",
              "      filter: drop-shadow(0px 1px 2px rgba(0, 0, 0, 0.3));\n",
              "      fill: #FFFFFF;\n",
              "    }\n",
              "  </style>\n",
              "\n",
              "    <script>\n",
              "      const buttonEl =\n",
              "        document.querySelector('#df-667f0ceb-4465-49e5-a856-de927483e842 button.colab-df-convert');\n",
              "      buttonEl.style.display =\n",
              "        google.colab.kernel.accessAllowed ? 'block' : 'none';\n",
              "\n",
              "      async function convertToInteractive(key) {\n",
              "        const element = document.querySelector('#df-667f0ceb-4465-49e5-a856-de927483e842');\n",
              "        const dataTable =\n",
              "          await google.colab.kernel.invokeFunction('convertToInteractive',\n",
              "                                                    [key], {});\n",
              "        if (!dataTable) return;\n",
              "\n",
              "        const docLinkHtml = 'Like what you see? Visit the ' +\n",
              "          '<a target=\"_blank\" href=https://colab.research.google.com/notebooks/data_table.ipynb>data table notebook</a>'\n",
              "          + ' to learn more about interactive tables.';\n",
              "        element.innerHTML = '';\n",
              "        dataTable['output_type'] = 'display_data';\n",
              "        await google.colab.output.renderOutput(dataTable, element);\n",
              "        const docLink = document.createElement('div');\n",
              "        docLink.innerHTML = docLinkHtml;\n",
              "        element.appendChild(docLink);\n",
              "      }\n",
              "    </script>\n",
              "  </div>\n",
              "\n",
              "\n",
              "<div id=\"df-d29e49d3-6d31-4332-b781-06b6c3201c52\">\n",
              "  <button class=\"colab-df-quickchart\" onclick=\"quickchart('df-d29e49d3-6d31-4332-b781-06b6c3201c52')\"\n",
              "            title=\"Suggest charts\"\n",
              "            style=\"display:none;\">\n",
              "\n",
              "<svg xmlns=\"http://www.w3.org/2000/svg\" height=\"24px\"viewBox=\"0 0 24 24\"\n",
              "     width=\"24px\">\n",
              "    <g>\n",
              "        <path d=\"M19 3H5c-1.1 0-2 .9-2 2v14c0 1.1.9 2 2 2h14c1.1 0 2-.9 2-2V5c0-1.1-.9-2-2-2zM9 17H7v-7h2v7zm4 0h-2V7h2v10zm4 0h-2v-4h2v4z\"/>\n",
              "    </g>\n",
              "</svg>\n",
              "  </button>\n",
              "\n",
              "<style>\n",
              "  .colab-df-quickchart {\n",
              "      --bg-color: #E8F0FE;\n",
              "      --fill-color: #1967D2;\n",
              "      --hover-bg-color: #E2EBFA;\n",
              "      --hover-fill-color: #174EA6;\n",
              "      --disabled-fill-color: #AAA;\n",
              "      --disabled-bg-color: #DDD;\n",
              "  }\n",
              "\n",
              "  [theme=dark] .colab-df-quickchart {\n",
              "      --bg-color: #3B4455;\n",
              "      --fill-color: #D2E3FC;\n",
              "      --hover-bg-color: #434B5C;\n",
              "      --hover-fill-color: #FFFFFF;\n",
              "      --disabled-bg-color: #3B4455;\n",
              "      --disabled-fill-color: #666;\n",
              "  }\n",
              "\n",
              "  .colab-df-quickchart {\n",
              "    background-color: var(--bg-color);\n",
              "    border: none;\n",
              "    border-radius: 50%;\n",
              "    cursor: pointer;\n",
              "    display: none;\n",
              "    fill: var(--fill-color);\n",
              "    height: 32px;\n",
              "    padding: 0;\n",
              "    width: 32px;\n",
              "  }\n",
              "\n",
              "  .colab-df-quickchart:hover {\n",
              "    background-color: var(--hover-bg-color);\n",
              "    box-shadow: 0 1px 2px rgba(60, 64, 67, 0.3), 0 1px 3px 1px rgba(60, 64, 67, 0.15);\n",
              "    fill: var(--button-hover-fill-color);\n",
              "  }\n",
              "\n",
              "  .colab-df-quickchart-complete:disabled,\n",
              "  .colab-df-quickchart-complete:disabled:hover {\n",
              "    background-color: var(--disabled-bg-color);\n",
              "    fill: var(--disabled-fill-color);\n",
              "    box-shadow: none;\n",
              "  }\n",
              "\n",
              "  .colab-df-spinner {\n",
              "    border: 2px solid var(--fill-color);\n",
              "    border-color: transparent;\n",
              "    border-bottom-color: var(--fill-color);\n",
              "    animation:\n",
              "      spin 1s steps(1) infinite;\n",
              "  }\n",
              "\n",
              "  @keyframes spin {\n",
              "    0% {\n",
              "      border-color: transparent;\n",
              "      border-bottom-color: var(--fill-color);\n",
              "      border-left-color: var(--fill-color);\n",
              "    }\n",
              "    20% {\n",
              "      border-color: transparent;\n",
              "      border-left-color: var(--fill-color);\n",
              "      border-top-color: var(--fill-color);\n",
              "    }\n",
              "    30% {\n",
              "      border-color: transparent;\n",
              "      border-left-color: var(--fill-color);\n",
              "      border-top-color: var(--fill-color);\n",
              "      border-right-color: var(--fill-color);\n",
              "    }\n",
              "    40% {\n",
              "      border-color: transparent;\n",
              "      border-right-color: var(--fill-color);\n",
              "      border-top-color: var(--fill-color);\n",
              "    }\n",
              "    60% {\n",
              "      border-color: transparent;\n",
              "      border-right-color: var(--fill-color);\n",
              "    }\n",
              "    80% {\n",
              "      border-color: transparent;\n",
              "      border-right-color: var(--fill-color);\n",
              "      border-bottom-color: var(--fill-color);\n",
              "    }\n",
              "    90% {\n",
              "      border-color: transparent;\n",
              "      border-bottom-color: var(--fill-color);\n",
              "    }\n",
              "  }\n",
              "</style>\n",
              "\n",
              "  <script>\n",
              "    async function quickchart(key) {\n",
              "      const quickchartButtonEl =\n",
              "        document.querySelector('#' + key + ' button');\n",
              "      quickchartButtonEl.disabled = true;  // To prevent multiple clicks.\n",
              "      quickchartButtonEl.classList.add('colab-df-spinner');\n",
              "      try {\n",
              "        const charts = await google.colab.kernel.invokeFunction(\n",
              "            'suggestCharts', [key], {});\n",
              "      } catch (error) {\n",
              "        console.error('Error during call to suggestCharts:', error);\n",
              "      }\n",
              "      quickchartButtonEl.classList.remove('colab-df-spinner');\n",
              "      quickchartButtonEl.classList.add('colab-df-quickchart-complete');\n",
              "    }\n",
              "    (() => {\n",
              "      let quickchartButtonEl =\n",
              "        document.querySelector('#df-d29e49d3-6d31-4332-b781-06b6c3201c52 button');\n",
              "      quickchartButtonEl.style.display =\n",
              "        google.colab.kernel.accessAllowed ? 'block' : 'none';\n",
              "    })();\n",
              "  </script>\n",
              "</div>\n",
              "\n",
              "    </div>\n",
              "  </div>\n"
            ],
            "application/vnd.google.colaboratory.intrinsic+json": {
              "type": "dataframe",
              "summary": "{\n  \"name\": \"df\",\n  \"rows\": 5,\n  \"fields\": [\n    {\n      \"column\": \"id\",\n      \"properties\": {\n        \"dtype\": \"number\",\n        \"std\": 340,\n        \"min\": 174,\n        \"max\": 935,\n        \"num_unique_values\": 5,\n        \"samples\": [\n          174,\n          935,\n          353\n        ],\n        \"semantic_type\": \"\",\n        \"description\": \"\"\n      }\n    },\n    {\n      \"column\": \"first_name\",\n      \"properties\": {\n        \"dtype\": \"string\",\n        \"num_unique_values\": 5,\n        \"samples\": [\n          \"Sloane\",\n          \"Edvard\",\n          \"Alfie\"\n        ],\n        \"semantic_type\": \"\",\n        \"description\": \"\"\n      }\n    },\n    {\n      \"column\": \"last_name\",\n      \"properties\": {\n        \"dtype\": \"string\",\n        \"num_unique_values\": 5,\n        \"samples\": [\n          \"Desquesnes\",\n          \"Pickin\",\n          \"Gritsaev\"\n        ],\n        \"semantic_type\": \"\",\n        \"description\": \"\"\n      }\n    },\n    {\n      \"column\": \"email\",\n      \"properties\": {\n        \"dtype\": \"string\",\n        \"num_unique_values\": 5,\n        \"samples\": [\n          \"sdesquesnes4t@dedecms.com\",\n          \"epickinpy@desdev.cn\",\n          \"agritsaev9s@dion.ne.jp\"\n        ],\n        \"semantic_type\": \"\",\n        \"description\": \"\"\n      }\n    },\n    {\n      \"column\": \"gender\",\n      \"properties\": {\n        \"dtype\": \"string\",\n        \"num_unique_values\": 4,\n        \"samples\": [\n          \"Male\",\n          \"Bigender\",\n          \"Agender\"\n        ],\n        \"semantic_type\": \"\",\n        \"description\": \"\"\n      }\n    },\n    {\n      \"column\": \"ip_address\",\n      \"properties\": {\n        \"dtype\": \"string\",\n        \"num_unique_values\": 5,\n        \"samples\": [\n          \"0.146.148.140\",\n          \"101.143.201.174\",\n          \"171.159.118.57\"\n        ],\n        \"semantic_type\": \"\",\n        \"description\": \"\"\n      }\n    },\n    {\n      \"column\": \"cgpa\",\n      \"properties\": {\n        \"dtype\": \"number\",\n        \"std\": 0.8962653996817386,\n        \"min\": 1.05,\n        \"max\": 3.17,\n        \"num_unique_values\": 4,\n        \"samples\": [\n          3.17,\n          1.81,\n          1.05\n        ],\n        \"semantic_type\": \"\",\n        \"description\": \"\"\n      }\n    },\n    {\n      \"column\": \"passing_year\",\n      \"properties\": {\n        \"dtype\": \"number\",\n        \"std\": 6.534523701081817,\n        \"min\": 2001.0,\n        \"max\": 2019.0,\n        \"num_unique_values\": 5,\n        \"samples\": [\n          2019.0,\n          2008.0,\n          2011.0\n        ],\n        \"semantic_type\": \"\",\n        \"description\": \"\"\n      }\n    },\n    {\n      \"column\": \"department\",\n      \"properties\": {\n        \"dtype\": \"string\",\n        \"num_unique_values\": 4,\n        \"samples\": [\n          \"Business\",\n          \"Computer Science\",\n          \"Engineering\"\n        ],\n        \"semantic_type\": \"\",\n        \"description\": \"\"\n      }\n    },\n    {\n      \"column\": \"attendance\",\n      \"properties\": {\n        \"dtype\": \"number\",\n        \"std\": 32.22765970404926,\n        \"min\": 5.93,\n        \"max\": 77.42,\n        \"num_unique_values\": 5,\n        \"samples\": [\n          14.74,\n          65.23,\n          20.78\n        ],\n        \"semantic_type\": \"\",\n        \"description\": \"\"\n      }\n    },\n    {\n      \"column\": \"home_district\",\n      \"properties\": {\n        \"dtype\": \"string\",\n        \"num_unique_values\": 4,\n        \"samples\": [\n          \"Houston\",\n          \"New York\",\n          \"Chicago\"\n        ],\n        \"semantic_type\": \"\",\n        \"description\": \"\"\n      }\n    },\n    {\n      \"column\": \"abroad_study\",\n      \"properties\": {\n        \"dtype\": \"boolean\",\n        \"num_unique_values\": 2,\n        \"samples\": [\n          true,\n          false\n        ],\n        \"semantic_type\": \"\",\n        \"description\": \"\"\n      }\n    },\n    {\n      \"column\": \"student_id\",\n      \"properties\": {\n        \"dtype\": \"number\",\n        \"std\": 340,\n        \"min\": 174,\n        \"max\": 935,\n        \"num_unique_values\": 5,\n        \"samples\": [\n          174,\n          935\n        ],\n        \"semantic_type\": \"\",\n        \"description\": \"\"\n      }\n    },\n    {\n      \"column\": \"graduation_date\",\n      \"properties\": {\n        \"dtype\": \"number\",\n        \"std\": 6,\n        \"min\": 2003,\n        \"max\": 2020,\n        \"num_unique_values\": 5,\n        \"samples\": [\n          2018,\n          2019\n        ],\n        \"semantic_type\": \"\",\n        \"description\": \"\"\n      }\n    },\n    {\n      \"column\": \"study_abroad_country\",\n      \"properties\": {\n        \"dtype\": \"string\",\n        \"num_unique_values\": 4,\n        \"samples\": [\n          \"Poland\",\n          \"Philippines\"\n        ],\n        \"semantic_type\": \"\",\n        \"description\": \"\"\n      }\n    },\n    {\n      \"column\": \"study_abroad_city\",\n      \"properties\": {\n        \"dtype\": \"string\",\n        \"num_unique_values\": 5,\n        \"samples\": [\n          \"Olesno\",\n          \"Tiwi\"\n        ],\n        \"semantic_type\": \"\",\n        \"description\": \"\"\n      }\n    },\n    {\n      \"column\": \"hsc_gpa\",\n      \"properties\": {\n        \"dtype\": \"number\",\n        \"std\": 1,\n        \"min\": 1,\n        \"max\": 5,\n        \"num_unique_values\": 4,\n        \"samples\": [\n          3,\n          1\n        ],\n        \"semantic_type\": \"\",\n        \"description\": \"\"\n      }\n    },\n    {\n      \"column\": \"ssc_gpa\",\n      \"properties\": {\n        \"dtype\": \"number\",\n        \"std\": 1,\n        \"min\": 1,\n        \"max\": 4,\n        \"num_unique_values\": 3,\n        \"samples\": [\n          4,\n          1\n        ],\n        \"semantic_type\": \"\",\n        \"description\": \"\"\n      }\n    }\n  ]\n}"
            }
          },
          "metadata": {},
          "execution_count": 35
        }
      ]
    },
    {
      "cell_type": "markdown",
      "source": [
        "Question 1"
      ],
      "metadata": {
        "id": "KjPy-flW3G-c"
      }
    },
    {
      "cell_type": "code",
      "source": [
        "grad_2024_count = len(df[pd.to_datetime(df['graduation_date']).dt.year == 2024])\n",
        "print(f\"Number of students graduating in 2024: {grad_2024_count}\")"
      ],
      "metadata": {
        "id": "5A8aScAstLM8",
        "colab": {
          "base_uri": "https://localhost:8080/"
        },
        "outputId": "c014db4e-bde6-4f88-bc06-e4d43ee9851b"
      },
      "execution_count": null,
      "outputs": [
        {
          "output_type": "stream",
          "name": "stdout",
          "text": [
            "Number of students graduating in 2024: 0\n"
          ]
        }
      ]
    },
    {
      "cell_type": "markdown",
      "source": [
        "Question 2"
      ],
      "metadata": {
        "id": "TCmzgUnl3M4z"
      }
    },
    {
      "cell_type": "code",
      "source": [
        "\n",
        "\n",
        "city = \"chicago\"\n",
        "students_in_city = df[df['home_district'] == city]\n",
        "print(students_in_city)\n"
      ],
      "metadata": {
        "colab": {
          "base_uri": "https://localhost:8080/"
        },
        "id": "GG6veVSQ3LL8",
        "outputId": "50aa2e17-065f-4dac-c563-3041111e8e72"
      },
      "execution_count": null,
      "outputs": [
        {
          "output_type": "stream",
          "name": "stdout",
          "text": [
            "Empty DataFrame\n",
            "Columns: [id, first_name, last_name, email, gender, ip_address, cgpa, passing_year, department, attendance, home_district, abroad_study, student_id, graduation_date, study_abroad_country, study_abroad_city, hsc_gpa, ssc_gpa]\n",
            "Index: []\n"
          ]
        }
      ]
    },
    {
      "cell_type": "markdown",
      "source": [
        "question 3\n"
      ],
      "metadata": {
        "id": "7598hQr-6TQR"
      }
    },
    {
      "cell_type": "code",
      "source": [
        "\n",
        "computer_science_students = df[df['department'] == 'computer science']\n",
        "average_ssc_gpa = computer_science_students['ssc_gpa'].mean()\n",
        "print(f\"Average SSC GPA for Computer Science students: {average_ssc_gpa}\")"
      ],
      "metadata": {
        "colab": {
          "base_uri": "https://localhost:8080/"
        },
        "id": "elvtSLft6VQ6",
        "outputId": "0fb8502f-9263-4181-e7f9-7bd7dc67b2f2"
      },
      "execution_count": null,
      "outputs": [
        {
          "output_type": "stream",
          "name": "stdout",
          "text": [
            "Average SSC GPA for Computer Science students: nan\n"
          ]
        }
      ]
    },
    {
      "cell_type": "markdown",
      "source": [
        "question  4\n"
      ],
      "metadata": {
        "id": "TpLCv8yC7CDD"
      }
    },
    {
      "cell_type": "code",
      "source": [
        "df ['abroad_study']\n",
        "df['abroad_study'].fillna('No')\n",
        "print(df)"
      ],
      "metadata": {
        "colab": {
          "base_uri": "https://localhost:8080/"
        },
        "id": "8PbB1HXH7EXQ",
        "outputId": "0cb2c62d-25f0-4bd4-f2a3-a7644fb07884"
      },
      "execution_count": null,
      "outputs": [
        {
          "output_type": "stream",
          "name": "stdout",
          "text": [
            "       id first_name   last_name                        email      gender  \\\n",
            "0       1     Fraser   Petschelt   fpetschelt0@craigslist.org        Male   \n",
            "1       2         Si     Skottle    sskottle1@squarespace.com        Male   \n",
            "2       3      Barbi   Seedhouse  bseedhouse2@miibeian.gov.cn      Female   \n",
            "3       4     Shadow      Scarff         sscarff3@walmart.com        Male   \n",
            "4       5      Karim  Domenicone    kdomenicone4@sakura.ne.jp        Male   \n",
            "..    ...        ...         ...                          ...         ...   \n",
            "995   996  Catharina     Bradtke       cbradtkern@pcworld.com      Female   \n",
            "996   997  Anastasia       Lowde            alowdero@blog.com      Female   \n",
            "997   998      Tandi    Whitlock      twhitlockrp@skyrock.com      Female   \n",
            "998   999    Malvina        Tuhy        mtuhyrq@bloglines.com  Non-binary   \n",
            "999  1000     Kissee    Okeshott          kokeshottrr@msu.edu      Female   \n",
            "\n",
            "          ip_address  cgpa  passing_year        department  attendance  \\\n",
            "0     22.110.131.206  0.13        2000.0          Business       63.56   \n",
            "1         230.8.97.7   NaN        2023.0              Arts       76.00   \n",
            "2     212.118.50.163   NaN        2015.0  Computer Science        9.91   \n",
            "3       43.41.240.67  3.27        2024.0              Arts       90.09   \n",
            "4        29.33.96.28  0.20        2025.0              Arts       91.36   \n",
            "..               ...   ...           ...               ...         ...   \n",
            "995    52.162.96.226  0.49        2015.0          Medicine         NaN   \n",
            "996  199.250.191.241  0.37        2009.0  Computer Science        8.18   \n",
            "997    156.191.196.6  1.04        2023.0          Medicine       92.60   \n",
            "998     49.201.10.99   NaN        2017.0          Medicine       61.29   \n",
            "999     169.43.29.34  2.22        2018.0              Arts       70.99   \n",
            "\n",
            "    home_district  abroad_study  student_id  graduation_date  \\\n",
            "0         Houston         False           1             2015   \n",
            "1           Miami          True           2             2014   \n",
            "2         Houston         False           3             2013   \n",
            "3        New York          True           4             2012   \n",
            "4           Miami         False           5             2008   \n",
            "..            ...           ...         ...              ...   \n",
            "995       Chicago         False         996             2019   \n",
            "996       Chicago          True         997             2011   \n",
            "997      New York         False         998             2011   \n",
            "998      New York          True         999             2008   \n",
            "999         Miami         False        1000             2004   \n",
            "\n",
            "      study_abroad_country study_abroad_city  hsc_gpa  ssc_gpa  \n",
            "0                   France              Laon        5        5  \n",
            "1                    China         Changqiao        1        3  \n",
            "2                    China              Luxi        2        1  \n",
            "3                   Brazil        Chã Grande        5        2  \n",
            "4                   Sweden          Enköping        5        5  \n",
            "..                     ...               ...      ...      ...  \n",
            "995  Palestinian Territory    Dayr Abū Ḑa‘īf        5        4  \n",
            "996              Venezuela         El Corozo        3        1  \n",
            "997                 Sweden            Motala        3        3  \n",
            "998               Pakistan            Nārang        1        4  \n",
            "999                 Uganda             Amuru        3        3  \n",
            "\n",
            "[1000 rows x 18 columns]\n"
          ]
        }
      ]
    },
    {
      "cell_type": "markdown",
      "source": [
        "question 5\n"
      ],
      "metadata": {
        "id": "eli9tQiy9C5U"
      }
    },
    {
      "cell_type": "code",
      "source": [
        "study_abroad_counts = df['abroad_study'].value_counts()\n",
        "\n",
        "plt.figure(figsize=(10, 6))\n",
        "study_abroad_counts.plot(kind='bar')\n",
        "plt.title('Number of Students by Study Abroad Country')\n",
        "plt.xlabel('Country')\n",
        "plt.ylabel('Number of Students')\n",
        "plt.xticks(rotation=45, ha='right')\n",
        "plt.tight_layout()\n",
        "plt.show()"
      ],
      "metadata": {
        "colab": {
          "base_uri": "https://localhost:8080/",
          "height": 607
        },
        "id": "UlJODDcN9Fqd",
        "outputId": "d2d6a78e-716c-4013-8a6d-c2dadb7b43ca"
      },
      "execution_count": null,
      "outputs": [
        {
          "output_type": "display_data",
          "data": {
            "text/plain": [
              "<Figure size 1000x600 with 1 Axes>"
            ],
            "image/png": "[encoded data removed]"
          },
          "metadata": {}
        }
      ]
    }
  ]
}